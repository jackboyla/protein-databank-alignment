{
 "cells": [
  {
   "cell_type": "code",
   "execution_count": 206,
   "metadata": {},
   "outputs": [],
   "source": [
    "reference_sequence = \"LKSDNVOEBOICSKJDNOJEVNSDKLCX\"\n",
    "pdb_sequence = [('D.34.C', 'K'), ('D.34.D', 'S'), ('D.34.D', 'D'), ('D.34.E', 'N'), ('D.35.', 'V'), ('D.35.A', 'O'), ('D.36.', 'O'), ('D.40.', 'X')]"
   ]
  },
  {
   "cell_type": "code",
   "execution_count": 207,
   "metadata": {},
   "outputs": [],
   "source": [
    "def convert_loc_to_idx(pdb_tuple):\n",
    "    pos = pdb_tuple[0].split(\".\")\n",
    "    idx = int(pos[1])\n",
    "    return idx"
   ]
  },
  {
   "cell_type": "code",
   "execution_count": 208,
   "metadata": {},
   "outputs": [],
   "source": [
    "import re\n",
    "\n",
    "seq_idx = []\n",
    "align_int = 0\n",
    "for i, (pos, amino) in enumerate(pdb_sequence):\n",
    "    idx = convert_loc_to_idx((pos, amino)) #+ align_int\n",
    "    if pos.split(\".\")[-1] != \"\":\n",
    "        # align_int += 1\n",
    "        if len(seq_idx) > 0:\n",
    "            seq_idx[-1] += (amino,)\n",
    "        else:\n",
    "            seq_idx.append((idx, amino))\n",
    "    else:\n",
    "        seq_idx.append((idx, amino))"
   ]
  },
  {
   "cell_type": "code",
   "execution_count": 209,
   "metadata": {},
   "outputs": [
    {
     "data": {
      "text/plain": [
       "[(34, 'K', 'S', 'D', 'N'), (35, 'V', 'O'), (36, 'O'), (40, 'X')]"
      ]
     },
     "execution_count": 209,
     "metadata": {},
     "output_type": "execute_result"
    }
   ],
   "source": [
    "seq_idx\n",
    "# [(142, 'K', 'S', 'D'), (146, 'N'), (148, 'O')]"
   ]
  },
  {
   "cell_type": "code",
   "execution_count": 210,
   "metadata": {},
   "outputs": [],
   "source": [
    "# reference_sequence = \"MMAAGHSFDJNDKVDKNKNDLNDFLVKNDFKNVKNXFVSSDNDOSRJIODRJ\"\n",
    "# pdb_sequence = [('A.254.', 'A'), ('A.255.', 'G'), ('A.258.', 'F'), ('A.258.A', 'D'), ('A.264.', 'D')]\n",
    "        # expected_result = [\n",
    "        #     [('A.254.', 2), ('A.255.', 4), ('A.258.', 7), ('A.258.A', 8), ('A.264.', 14)],"
   ]
  },
  {
   "cell_type": "code",
   "execution_count": 211,
   "metadata": {},
   "outputs": [
    {
     "name": "stdout",
     "output_type": "stream",
     "text": [
      "regular expression:  KSDN[A-Z]{0,}?VO[A-Z]{0,}?O[A-Z]{3,}?X\n",
      "gaps:  [0, 0, 0, 0, 0, 0, 0, 3]\n"
     ]
    }
   ],
   "source": [
    "reg = r\"\"\n",
    "gaps = []\n",
    "for i, tup in enumerate(seq_idx):\n",
    "    if i == 0:\n",
    "        for amino in tup[1:]:\n",
    "            reg += re.escape(amino)\n",
    "            gaps.append(0)\n",
    "        # gaps = gaps[1:]\n",
    "        \n",
    "    else: \n",
    "        # we don't know exactly how many aminos may be between position 1 and 2,\n",
    "        # (because there could be N insertion aminos)\n",
    "        # but we know it must be at least 1\n",
    "        gap_min = tup[0] - seq_idx[i-1][0] -1    #+ (len(seq_idx[i-1]) + 1)\n",
    "        gaps.append(gap_min)\n",
    "\n",
    "        # if the aminos are in an insertion group, \n",
    "        # they come directly after each other\n",
    "        if len(tup) > 2:\n",
    "            # gap_min += \n",
    "            exact = re.escape(tup[1])\n",
    "            for amino in tup[2:]:\n",
    "                exact += re.escape(amino)\n",
    "                gaps.append(0)\n",
    "        else:\n",
    "            exact = re.escape(tup[1])\n",
    "    \n",
    "        # we add the \"?\" due to *greediness*: https://stackoverflow.com/a/16619508\n",
    "        # we want the regex to search from shortest to longest string, not longest to shortest\n",
    "        reg += r\"[A-Z]{\" + re.escape(str(gap_min)) + r\",}?\" + re.escape(exact)\n",
    "\n",
    "        \n",
    "        \n",
    "print(\"regular expression: \", reg)\n",
    "print(\"gaps: \", gaps)\n",
    "# KSD[A-Z]{1,}?N[A-Z]{1,}?O"
   ]
  },
  {
   "cell_type": "code",
   "execution_count": 212,
   "metadata": {},
   "outputs": [
    {
     "name": "stdout",
     "output_type": "stream",
     "text": [
      "KSDNVOEBOICSKJDNOJEVNSDKLCX\n"
     ]
    }
   ],
   "source": [
    "# reference_sequence = \"LKSDNVOEBOICSKJDNOJEVNSDKLCX\"\n",
    "# pdb_sequence = [('D.34.C', 'K'), ('D.34.D', 'S'), ('D.34.D', 'D'), ('D.34.E', 'N'), ('D.35.', 'V'), ('D.35.A', 'O'), ('D.36.', 'O'), ('D.40.C', 'X')]\n",
    "# reg = A[A-Z]{0,}?G[A-Z]{2,}?FD[A-Z]{5,}?D\n",
    "res = re.search(reg, reference_sequence)\n",
    "print(res.group())"
   ]
  },
  {
   "cell_type": "code",
   "execution_count": 213,
   "metadata": {},
   "outputs": [
    {
     "data": {
      "text/plain": [
       "1"
      ]
     },
     "execution_count": 213,
     "metadata": {},
     "output_type": "execute_result"
    }
   ],
   "source": [
    "match_start = res.start()\n",
    "match_start"
   ]
  },
  {
   "cell_type": "code",
   "execution_count": 214,
   "metadata": {},
   "outputs": [
    {
     "data": {
      "text/plain": [
       "[(34, 'K', 'S', 'D', 'N'), (35, 'V', 'O'), (36, 'O'), (40, 'X')]"
      ]
     },
     "execution_count": 214,
     "metadata": {},
     "output_type": "execute_result"
    }
   ],
   "source": [
    "seq_idx"
   ]
  },
  {
   "cell_type": "code",
   "execution_count": 215,
   "metadata": {},
   "outputs": [
    {
     "data": {
      "text/plain": [
       "[(1, 'K'),\n",
       " (2, 'S'),\n",
       " (3, 'D'),\n",
       " (4, 'N'),\n",
       " (5, 'V'),\n",
       " (6, 'O'),\n",
       " (7, 'E'),\n",
       " (8, 'B'),\n",
       " (9, 'O'),\n",
       " (10, 'I'),\n",
       " (11, 'C'),\n",
       " (12, 'S'),\n",
       " (13, 'K'),\n",
       " (14, 'J'),\n",
       " (15, 'D'),\n",
       " (16, 'N'),\n",
       " (17, 'O'),\n",
       " (18, 'J'),\n",
       " (19, 'E'),\n",
       " (20, 'V'),\n",
       " (21, 'N'),\n",
       " (22, 'S'),\n",
       " (23, 'D'),\n",
       " (24, 'K'),\n",
       " (25, 'L'),\n",
       " (26, 'C'),\n",
       " (27, 'X')]"
      ]
     },
     "execution_count": 215,
     "metadata": {},
     "output_type": "execute_result"
    }
   ],
   "source": [
    "match_idx = [(i+match_start, c) for i, c in enumerate(res.group())]\n",
    "match_idx"
   ]
  },
  {
   "cell_type": "code",
   "execution_count": 216,
   "metadata": {},
   "outputs": [
    {
     "name": "stdout",
     "output_type": "stream",
     "text": [
      "[('D.34.C', 1)]\n",
      "matching : S == S\n",
      "(2 - 1 ) > gap (0)\n",
      "[('D.34.C', 1), ('D.34.D', 2)]\n",
      "matching : D == D\n",
      "(3 - 2 ) > gap (0)\n",
      "[('D.34.C', 1), ('D.34.D', 2), ('D.34.D', 3)]\n",
      "matching : N == N\n",
      "(4 - 3 ) > gap (0)\n",
      "[('D.34.C', 1), ('D.34.D', 2), ('D.34.D', 3), ('D.34.E', 4)]\n",
      "matching : V == V\n",
      "(5 - 4 ) > gap (0)\n",
      "[('D.34.C', 1), ('D.34.D', 2), ('D.34.D', 3), ('D.34.E', 4), ('D.35.', 5)]\n",
      "matching : O == O\n",
      "(6 - 5 ) > gap (0)\n",
      "[('D.34.C', 1), ('D.34.D', 2), ('D.34.D', 3), ('D.34.E', 4), ('D.35.', 5), ('D.35.A', 6)]\n",
      "[('D.34.C', 1), ('D.34.D', 2), ('D.34.D', 3), ('D.34.E', 4), ('D.35.', 5), ('D.35.A', 6)]\n",
      "[('D.34.C', 1), ('D.34.D', 2), ('D.34.D', 3), ('D.34.E', 4), ('D.35.', 5), ('D.35.A', 6)]\n",
      "matching : O == O\n",
      "(9 - 6 ) > gap (0)\n",
      "[('D.34.C', 1), ('D.34.D', 2), ('D.34.D', 3), ('D.34.E', 4), ('D.35.', 5), ('D.35.A', 6), ('D.36.', 9)]\n",
      "[('D.34.C', 1), ('D.34.D', 2), ('D.34.D', 3), ('D.34.E', 4), ('D.35.', 5), ('D.35.A', 6), ('D.36.', 9)]\n",
      "[('D.34.C', 1), ('D.34.D', 2), ('D.34.D', 3), ('D.34.E', 4), ('D.35.', 5), ('D.35.A', 6), ('D.36.', 9)]\n",
      "[('D.34.C', 1), ('D.34.D', 2), ('D.34.D', 3), ('D.34.E', 4), ('D.35.', 5), ('D.35.A', 6), ('D.36.', 9)]\n",
      "[('D.34.C', 1), ('D.34.D', 2), ('D.34.D', 3), ('D.34.E', 4), ('D.35.', 5), ('D.35.A', 6), ('D.36.', 9)]\n",
      "[('D.34.C', 1), ('D.34.D', 2), ('D.34.D', 3), ('D.34.E', 4), ('D.35.', 5), ('D.35.A', 6), ('D.36.', 9)]\n",
      "[('D.34.C', 1), ('D.34.D', 2), ('D.34.D', 3), ('D.34.E', 4), ('D.35.', 5), ('D.35.A', 6), ('D.36.', 9)]\n",
      "[('D.34.C', 1), ('D.34.D', 2), ('D.34.D', 3), ('D.34.E', 4), ('D.35.', 5), ('D.35.A', 6), ('D.36.', 9)]\n",
      "[('D.34.C', 1), ('D.34.D', 2), ('D.34.D', 3), ('D.34.E', 4), ('D.35.', 5), ('D.35.A', 6), ('D.36.', 9)]\n",
      "[('D.34.C', 1), ('D.34.D', 2), ('D.34.D', 3), ('D.34.E', 4), ('D.35.', 5), ('D.35.A', 6), ('D.36.', 9)]\n",
      "[('D.34.C', 1), ('D.34.D', 2), ('D.34.D', 3), ('D.34.E', 4), ('D.35.', 5), ('D.35.A', 6), ('D.36.', 9)]\n",
      "[('D.34.C', 1), ('D.34.D', 2), ('D.34.D', 3), ('D.34.E', 4), ('D.35.', 5), ('D.35.A', 6), ('D.36.', 9)]\n",
      "[('D.34.C', 1), ('D.34.D', 2), ('D.34.D', 3), ('D.34.E', 4), ('D.35.', 5), ('D.35.A', 6), ('D.36.', 9)]\n",
      "[('D.34.C', 1), ('D.34.D', 2), ('D.34.D', 3), ('D.34.E', 4), ('D.35.', 5), ('D.35.A', 6), ('D.36.', 9)]\n",
      "[('D.34.C', 1), ('D.34.D', 2), ('D.34.D', 3), ('D.34.E', 4), ('D.35.', 5), ('D.35.A', 6), ('D.36.', 9)]\n",
      "[('D.34.C', 1), ('D.34.D', 2), ('D.34.D', 3), ('D.34.E', 4), ('D.35.', 5), ('D.35.A', 6), ('D.36.', 9)]\n",
      "[('D.34.C', 1), ('D.34.D', 2), ('D.34.D', 3), ('D.34.E', 4), ('D.35.', 5), ('D.35.A', 6), ('D.36.', 9)]\n",
      "[('D.34.C', 1), ('D.34.D', 2), ('D.34.D', 3), ('D.34.E', 4), ('D.35.', 5), ('D.35.A', 6), ('D.36.', 9)]\n",
      "matching : X == X\n",
      "(27 - 9 ) > gap (3)\n"
     ]
    },
    {
     "data": {
      "text/plain": [
       "[('D.34.C', 1),\n",
       " ('D.34.D', 2),\n",
       " ('D.34.D', 3),\n",
       " ('D.34.E', 4),\n",
       " ('D.35.', 5),\n",
       " ('D.35.A', 6),\n",
       " ('D.36.', 9),\n",
       " ('D.40.', 27)]"
      ]
     },
     "execution_count": 216,
     "metadata": {},
     "output_type": "execute_result"
    }
   ],
   "source": [
    "# pdb_sequence = [('C.140.B', 'K'), ('C.140.C', 'S'), ('C.140.D', 'D'), ('C.143.', 'N'), ('C.145.', 'O')]\n",
    "k = 0\n",
    "out = [(pdb_sequence[k][0], match_idx[k][0])]\n",
    "\n",
    "i = k = 1\n",
    "while len(out) != len(pdb_sequence):\n",
    "# for tup in match_idx[1:]:\n",
    "    print(out)\n",
    "    if match_idx[i][1] == pdb_sequence[k][1]:\n",
    "        print(f\"matching : {match_idx[i][1]} == {pdb_sequence[k][1]}\")\n",
    "\n",
    "        if (match_idx[i][0] - out[k-1][1] ) > (gaps[k]):\n",
    "            print(f\"({match_idx[i][0]} - {out[k-1][1]} ) > gap ({gaps[k]})\")\n",
    "            out.append((pdb_sequence[k][0], match_idx[i][0]))\n",
    "            k += 1\n",
    "    i+=1\n",
    "\n",
    "out"
   ]
  },
  {
   "cell_type": "code",
   "execution_count": null,
   "metadata": {},
   "outputs": [],
   "source": []
  }
 ],
 "metadata": {
  "kernelspec": {
   "display_name": "devskill",
   "language": "python",
   "name": "python3"
  },
  "language_info": {
   "codemirror_mode": {
    "name": "ipython",
    "version": 3
   },
   "file_extension": ".py",
   "mimetype": "text/x-python",
   "name": "python",
   "nbconvert_exporter": "python",
   "pygments_lexer": "ipython3",
   "version": "3.10.9"
  },
  "orig_nbformat": 4
 },
 "nbformat": 4,
 "nbformat_minor": 2
}
